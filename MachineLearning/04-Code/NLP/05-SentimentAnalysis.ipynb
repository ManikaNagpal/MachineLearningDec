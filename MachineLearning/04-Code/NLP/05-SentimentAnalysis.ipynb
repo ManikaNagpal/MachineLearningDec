{
 "cells": [
  {
   "cell_type": "code",
   "execution_count": 1,
   "metadata": {
    "collapsed": true
   },
   "outputs": [],
   "source": [
    "import nltk.classify.util\n",
    "from nltk.classify import NaiveBayesClassifier\n",
    "from nltk.corpus import movie_reviews"
   ]
  },
  {
   "cell_type": "code",
   "execution_count": 2,
   "metadata": {
    "collapsed": true
   },
   "outputs": [],
   "source": [
    "def extract_features(word_list):\n",
    "    return dict([(word, True) for word in word_list ])"
   ]
  },
  {
   "cell_type": "code",
   "execution_count": 3,
   "metadata": {
    "collapsed": true
   },
   "outputs": [],
   "source": [
    "# Load positive and negative reviews\n",
    "positive_fileids = movie_reviews.fileids('pos')\n",
    "negative_fileids = movie_reviews.fileids('neg')"
   ]
  },
  {
   "cell_type": "code",
   "execution_count": 4,
   "metadata": {
    "collapsed": true
   },
   "outputs": [],
   "source": [
    "features_positive = [(extract_features(movie_reviews.words(fileids=[f])), \n",
    "                     'Positive') for f in positive_fileids]\n",
    "\n",
    "features_negative = [(extract_features(movie_reviews.words(fileids=[f])), \n",
    "                     'Negative') for f in negative_fileids]"
   ]
  },
  {
   "cell_type": "code",
   "execution_count": 8,
   "metadata": {},
   "outputs": [],
   "source": [
    "# features_positive[0]"
   ]
  },
  {
   "cell_type": "code",
   "execution_count": 9,
   "metadata": {
    "collapsed": true
   },
   "outputs": [],
   "source": [
    "# Split the data into train and test\n",
    "threshold_factor = 0.8\n",
    "threshold_positive = int(threshold_factor * len(features_positive))\n",
    "threshold_negative = int(threshold_factor * len(features_negative))"
   ]
  },
  {
   "cell_type": "code",
   "execution_count": 10,
   "metadata": {},
   "outputs": [
    {
     "name": "stdout",
     "output_type": "stream",
     "text": [
      "Number of training datapoints : 1600\n",
      "Number of test datapoints : 400\n"
     ]
    }
   ],
   "source": [
    "features_train = features_positive[:threshold_positive] + features_negative[:threshold_negative]\n",
    "features_test = features_positive[threshold_positive:] + features_negative[threshold_negative:]\n",
    "print(\"Number of training datapoints :\",len(features_train))\n",
    "print(\"Number of test datapoints :\",len(features_test))"
   ]
  },
  {
   "cell_type": "code",
   "execution_count": 12,
   "metadata": {},
   "outputs": [
    {
     "name": "stdout",
     "output_type": "stream",
     "text": [
      "Accuracy : 0.735\n"
     ]
    }
   ],
   "source": [
    "# Training a Naive Bayes Classifier\n",
    "classfier = NaiveBayesClassifier.train(features_train)\n",
    "print(\"Accuracy :\",nltk.classify.accuracy(classfier, features_test))"
   ]
  },
  {
   "cell_type": "code",
   "execution_count": 13,
   "metadata": {},
   "outputs": [
    {
     "name": "stdout",
     "output_type": "stream",
     "text": [
      "Top 10 most informative words :\n",
      "outstanding\n",
      "insulting\n",
      "vulnerable\n",
      "ludicrous\n",
      "uninvolving\n",
      "astounding\n",
      "avoids\n",
      "fascination\n",
      "animators\n",
      "affecting\n"
     ]
    }
   ],
   "source": [
    "print(\"Top 10 most informative words :\")\n",
    "for item in classfier.most_informative_features()[:10]:\n",
    "    print(item[0])"
   ]
  },
  {
   "cell_type": "code",
   "execution_count": 9,
   "metadata": {},
   "outputs": [
    {
     "name": "stdout",
     "output_type": "stream",
     "text": [
      "\n",
      "Predictions\n",
      "\n",
      "Review : The movie is really nice\n",
      "Predicted Sentiment : Positive\n",
      "Probability : 0.53\n",
      "\n",
      "Review : Will watch it again\n",
      "Predicted Sentiment : Positive\n",
      "Probability : 0.51\n",
      "\n",
      "Review : That was totally bullshit\n",
      "Predicted Sentiment : Negative\n",
      "Probability : 0.57\n",
      "\n",
      "Review : Starting was boring but at the end it was nice\n",
      "Predicted Sentiment : Negative\n",
      "Probability : 0.74\n",
      "\n",
      "Review : Not so good\n",
      "Predicted Sentiment : Negative\n",
      "Probability : 0.52\n"
     ]
    }
   ],
   "source": [
    "# Sample input reviews\n",
    "input_reviews = [\"The movie is really nice\",\n",
    "                \"Will watch it again\",\n",
    "                \"That was totally bullshit\",\n",
    "                \"Starting was boring but at the end it was nice\",\n",
    "                \"Not so good\"]\n",
    "\n",
    "print(\"\\nPredictions\")\n",
    "for review in input_reviews:\n",
    "    print(\"\\nReview :\",review)\n",
    "    \n",
    "    probdist = classfier.prob_classify(extract_features(review.split()))\n",
    "    pred_sentiment = probdist.max()\n",
    "    \n",
    "    print(\"Predicted Sentiment :\",pred_sentiment)\n",
    "    print(\"Probability :\",round(probdist.prob(pred_sentiment), 2))"
   ]
  },
  {
   "cell_type": "code",
   "execution_count": null,
   "metadata": {
    "collapsed": true
   },
   "outputs": [],
   "source": []
  }
 ],
 "metadata": {
  "kernelspec": {
   "display_name": "Python 3",
   "language": "python",
   "name": "python3"
  },
  "language_info": {
   "codemirror_mode": {
    "name": "ipython",
    "version": 3
   },
   "file_extension": ".py",
   "mimetype": "text/x-python",
   "name": "python",
   "nbconvert_exporter": "python",
   "pygments_lexer": "ipython3",
   "version": "3.5.4"
  }
 },
 "nbformat": 4,
 "nbformat_minor": 2
}
